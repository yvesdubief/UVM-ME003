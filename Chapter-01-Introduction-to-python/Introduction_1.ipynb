{
 "cells": [
  {
   "cell_type": "raw",
   "metadata": {},
   "source": [
    "Text provided under a Creative Commons Attribution license, CC-BY. All code is made available under the FSF-approved BSD-3 license. (c) Yves Dubief, Ian Moore 2019. Thanks to NSF for support via CAREER award #1805636."
   ]
  },
  {
   "cell_type": "markdown",
   "metadata": {},
   "source": [
    "# ME 003 - Introduction to Python Coding - Robotics - Notebook 1: \n",
    "## How to Use, Internet Help, Variable Assignment, Interactive Help, The print Statement: Q1-Q5\n",
    "***"
   ]
  },
  {
   "cell_type": "markdown",
   "metadata": {},
   "source": [
    "_“Strive for perfection in everything you do. Take the best that exists and make it better. When it does not exist, design it.”_\n",
    "_-Sir Henry Royce_ <br>\n",
    "\n",
    "_The power of engineering thought cannot be overrated. To have an understanding of the world's systems enables you to think up new ones - ones that are likely to work. Coding is not just another tool for your toolbox. It is a way of relating all tools to eachother and use them in an efficient fashion._ <br>\n",
    "\n",
    "_Our world is changing. We are not alone anymore. We work with a new intelligence. We have the technology. Machines work faster than we do. They don't sleep. They don't make mistakes, they only make the coder's mistakes. I can talk to machines. I tell them what to do. I speak their language. I code. Tomorrow's problems will be solved by machines. You have the opportunity to learn and create things that have never been dreamt till now._ <br>\n",
    "\n",
    "_In Mechanical Engineering, we seek to facilitate efficient systems of movement. To be efficient we require as much information as possible about the system. We gain this information through sensors and the output from these sensors is in code format. Therefore coding is critical to the success of an optomizable system._ <br>"
   ]
  },
  {
   "cell_type": "markdown",
   "metadata": {},
   "source": [
    "***"
   ]
  },
  {
   "cell_type": "markdown",
   "metadata": {},
   "source": [
    "### How to use this notebook:\n",
    "This document is called a Jupyter Notebook. It is the platform used for this course as it enables us to run code and read text all in one interactive document. Its developers describe The Jupyter Notebook as \"... an open-source web application that allows you to create and share documents that contain live code, equations, visualizations and narrative text.\" Jupyter Lab/Notebook is an application that has capability to run 40 different types of code. As you know this class is on Python. The code is stored and compiled on your computer but displayed in your browser. You do not need an internet connection to develop, compile or save code in Jupyter. <br>\n",
    "<br>\n",
    "How to use: <br>\n",
    "For you as the student when you open the Jupyter notebook, all of the code will already have run but you will need to run and re-run cells when you enter code.<br>\n",
    "**run an individual cell:** click on the cell and hold **shift** + press **enter**<br>\n",
    "*The following commands are good to know but you likely won't have to use them unless you make a mistake or want to add a note or additional cell.* <br>\n",
    "**add cell above:** **a**<br>\n",
    "**add cell below:** **b**<br>\n",
    "change to **markdown cell:** click on left hand margin and type **m**<br>\n",
    "change to **code cell:** click on left hand margin and type **y**<br>\n",
    "**copy cell:** click on left hand margin and type **c**<br>\n",
    "**cut cell:** click on left hand margin and type **x**<br>\n",
    "**delete cell:** click on left hand margin and type **dd** (d twice)<br>\n",
    "**undo cell edit:** click on left hand margin and type **z**<br>\n",
    "If you need other commands you can always click on the commands tab on the Left Side Bar and type what command you are looking for. \n",
    "<br>\n",
    "Useful syntax:<br>\n",
    "the **#** denotes a commented section of code. After each question **Q** cell you will see:\n",
    "![](in_doc_images/your_code_here.png)\n",
    "<br>\n",
    "To enter your answer, highlight, erase this comment and develop your code in the cell. <br>\n",
    "<br>\n",
    "### Indenting\n",
    "It is important not to indent (tab & spaces) *unless* you are at the beginning of a logical line. Leading whitespace is used to compute the indentation level of the line, which in turn is used to determine the grouping of statements."
   ]
  },
  {
   "cell_type": "markdown",
   "metadata": {},
   "source": [
    "***"
   ]
  },
  {
   "cell_type": "markdown",
   "metadata": {},
   "source": [
    "## Help and The Internet\n",
    "As you likely have learned by now the internet is an incredible resource and with enough discipline and persistence, you can teach yourself virtually anything. This class has been streamlined as much as possible so you (hopefully) don't spend your time searching for answers online and instead learning Python and its powerful applications. <br>\n",
    "If you do need more help or are curious, the following pages are very helpful and relatively easy to use:<br>\n",
    "https://docs.python.org Python's official documentation page: anything Python 1st party related.<br>\n",
    "https://docs.scipy.org Scientific Python (SciPy) official documentation page. SciPy are the creaters of Numpy, MatPlotLib and many other powerfull Python extensions. <br>\n",
    "https://w3schools.com One of the cleanest general 3rd party tutorial sites on Python. <br>\n",
    "https://stackoverflow.com Invaluable forum website for nearly any coding language. User posts question, another user (shows experience level) posts solution which gets voted up or down by other users based on accuracy. Type your question or Traceback error into Google and chances are someone has had the same problem or similar enough that you can extrapolate your answer. <br>\n",
    "https://www.youtube.com/watch?v=bY6m6_IIN94&list=PLi01XoE8jYohWFPpC17Z-wWhPOSuh8Er- Socratica has a more interactive approach to teaching and learning with each video pased in console. (Console is a running display of both your input and immediately prints output with each executed command. If you do want to practice in console, you can click \"File\" > \"New Console for Notebook\". To execute commands just hold [shift] + press [enter] (same as executing cells in Notebook).)<br>"
   ]
  },
  {
   "cell_type": "markdown",
   "metadata": {},
   "source": [
    "***"
   ]
  },
  {
   "cell_type": "markdown",
   "metadata": {},
   "source": [
    "## **Variable Assignment:**"
   ]
  },
  {
   "cell_type": "markdown",
   "metadata": {},
   "source": [
    "In most coding languages there are different ways of storing data called classes / data types. Classes enable classification of data and are the building blocks of code. The term data type, and class can be used interchangeably. For this course, we will focus on the following basic classes:"
   ]
  },
  {
   "cell_type": "markdown",
   "metadata": {},
   "source": [
    "\n",
    "<img src=\"images/basic_py_classes.png\" alt=\"Python Classes\">\n",
    "(From Basics of Object & Datatypes for PYTHON. (2019, January 08). Retrieved from http://technofission.com/basics-of-object-datatypes-for-python/)"
   ]
  },
  {
   "cell_type": "markdown",
   "metadata": {},
   "source": [
    "To assign a variable in Python you type the variable name followed by an equals sign and then the value assigned to that variable:"
   ]
  },
  {
   "cell_type": "code",
   "execution_count": 1,
   "metadata": {},
   "outputs": [],
   "source": [
    "x = 1"
   ]
  },
  {
   "cell_type": "markdown",
   "metadata": {},
   "source": [
    "When defining a variable with a specific class you use the same structure but type the class after the equals and put parenthesis around the value you are casting:"
   ]
  },
  {
   "cell_type": "code",
   "execution_count": 2,
   "metadata": {},
   "outputs": [],
   "source": [
    "y = int(2)"
   ]
  },
  {
   "cell_type": "markdown",
   "metadata": {},
   "source": [
    "To check we have correctly casted y as an integer with value 2 we enter:"
   ]
  },
  {
   "cell_type": "code",
   "execution_count": 3,
   "metadata": {},
   "outputs": [
    {
     "data": {
      "text/plain": [
       "int"
      ]
     },
     "execution_count": 3,
     "metadata": {},
     "output_type": "execute_result"
    }
   ],
   "source": [
    "type(y)"
   ]
  },
  {
   "cell_type": "markdown",
   "metadata": {},
   "source": [
    "And we see we have correctly cast y as an integer with value of 2. \n",
    "<br>\n",
    "<br>\n",
    "Now lets take a baby step and try assigning a variable as above:"
   ]
  },
  {
   "cell_type": "markdown",
   "metadata": {},
   "source": [
    "#### **Q1:** Define z with value 10 and cast it as an int following the above rubric for class/ data type definition:"
   ]
  },
  {
   "cell_type": "code",
   "execution_count": 4,
   "metadata": {},
   "outputs": [],
   "source": [
    "#your code:"
   ]
  },
  {
   "cell_type": "markdown",
   "metadata": {},
   "source": [
    "Now we will practice with other classes. For strings you need to put quotes around your text. If you fail to do so you will get an error:"
   ]
  },
  {
   "cell_type": "code",
   "execution_count": 5,
   "metadata": {},
   "outputs": [
    {
     "name": "stdout",
     "output_type": "stream",
     "text": [
      "The name entered was bob\n"
     ]
    },
    {
     "data": {
      "text/plain": [
       "str"
      ]
     },
     "execution_count": 5,
     "metadata": {},
     "output_type": "execute_result"
    }
   ],
   "source": [
    "#correct string definition:\n",
    "name = str(\"bob\")\n",
    "#printing the entered string\n",
    "print(f\"The name entered was {name}\")\n",
    "#checking the data type of name variable\n",
    "type(name)"
   ]
  },
  {
   "cell_type": "markdown",
   "metadata": {},
   "source": [
    "Now showing what would happen if you failed to enclose bob in parenthesis:"
   ]
  },
  {
   "cell_type": "code",
   "execution_count": 6,
   "metadata": {},
   "outputs": [
    {
     "ename": "NameError",
     "evalue": "name 'bob' is not defined",
     "output_type": "error",
     "traceback": [
      "\u001b[0;31m---------------------------------------------------------------------------\u001b[0m",
      "\u001b[0;31mNameError\u001b[0m                                 Traceback (most recent call last)",
      "\u001b[0;32m<ipython-input-6-fa9d0039874b>\u001b[0m in \u001b[0;36m<module>\u001b[0;34m()\u001b[0m\n\u001b[0;32m----> 1\u001b[0;31m \u001b[0mname\u001b[0m \u001b[0;34m=\u001b[0m \u001b[0mstr\u001b[0m\u001b[0;34m(\u001b[0m\u001b[0mbob\u001b[0m\u001b[0;34m)\u001b[0m\u001b[0;34m\u001b[0m\u001b[0;34m\u001b[0m\u001b[0m\n\u001b[0m",
      "\u001b[0;31mNameError\u001b[0m: name 'bob' is not defined"
     ]
    }
   ],
   "source": [
    "name = str(bob)"
   ]
  },
  {
   "cell_type": "markdown",
   "metadata": {},
   "source": [
    "#### **Q2:** Enter the name of this course as a string and assign it to the variable \"course_name\". Then verify its type is a string:"
   ]
  },
  {
   "cell_type": "code",
   "execution_count": 7,
   "metadata": {},
   "outputs": [],
   "source": [
    "#your code here"
   ]
  },
  {
   "cell_type": "markdown",
   "metadata": {},
   "source": [
    "<br>\n",
    "Additionally Python has built-in capability to create your own classes which we will explore in the SimBot notebook. "
   ]
  },
  {
   "cell_type": "markdown",
   "metadata": {},
   "source": [
    "***"
   ]
  },
  {
   "cell_type": "markdown",
   "metadata": {},
   "source": [
    "## **Interractive help:**\n",
    "Interractive help enables you to quickly learn about classes, functions, and methods right in the python console. \n",
    "<br>\n",
    "type the command dir() (which is short for \"directory\") and press enter. Python will return a collection of available objects:\n",
    "<br>"
   ]
  },
  {
   "cell_type": "markdown",
   "metadata": {},
   "source": [
    "As an example we will focus on the \"__builtins__\" module: which contains a collection of common objects that are always avaialble to you. To see these objects, call the directory function and pass __builtins__ to it: "
   ]
  },
  {
   "cell_type": "code",
   "execution_count": null,
   "metadata": {},
   "outputs": [],
   "source": [
    "dir(__builtins__)"
   ]
  },
  {
   "cell_type": "code",
   "execution_count": null,
   "metadata": {},
   "outputs": [],
   "source": [
    "help(pow) #asking for help on the pow function\n",
    "pow(3,2) #correctly using the pow function"
   ]
  },
  {
   "cell_type": "markdown",
   "metadata": {},
   "source": [
    "#### **Q3:** Type *import math* to import the math library. On the next line enter the dir command to see the methods in the math library. Then get help on the square root method. "
   ]
  },
  {
   "cell_type": "code",
   "execution_count": null,
   "metadata": {},
   "outputs": [],
   "source": [
    "#your code here"
   ]
  },
  {
   "cell_type": "markdown",
   "metadata": {},
   "source": [
    "***"
   ]
  },
  {
   "cell_type": "markdown",
   "metadata": {},
   "source": [
    "## The **Print** Statement:\n",
    "In the variable assignment example you have seen me type print( ) with some strange syntax in between parenthesis. This is called the **print** statement and you will use it prolifically. I wish I had been taught it early on when I first learned to code so I am going to teach it to you right off the bat.\n",
    "<br>\n",
    "<br>\n",
    "There are a few different types of formats you can use with the print statement but my favorite and the most convenient is as follows: <br>\n",
    "**print(f\"Text {variable}\")**\n",
    "<br>\n",
    "In this case, the f lets print know you are formatting, the \" lets it know you are entering text, the **{ }** encloses the variable so its value is inserted there, and the 2nd \" and ) close the statement. For now this will be sufficient and you will see this format used very often in these notebooks. \n",
    "<br>\n",
    "Ex:"
   ]
  },
  {
   "cell_type": "code",
   "execution_count": null,
   "metadata": {},
   "outputs": [],
   "source": [
    "b = int(64)\n",
    "print(f\"The class of b is int and the value of b is: {b}\")"
   ]
  },
  {
   "cell_type": "markdown",
   "metadata": {},
   "source": [
    "#### **Q4:** Define a variable \"tasty\" with class float and value 3.14 . On the next line print the text \"The value of tasty is: \" followed by variable tasty's value using the { } syntax (not just entering 3.14)."
   ]
  },
  {
   "cell_type": "code",
   "execution_count": null,
   "metadata": {},
   "outputs": [],
   "source": [
    "#your code here"
   ]
  }
 ],
 "metadata": {
  "kernelspec": {
   "display_name": "Python 3",
   "language": "python",
   "name": "python3"
  },
  "language_info": {
   "codemirror_mode": {
    "name": "ipython",
    "version": 3
   },
   "file_extension": ".py",
   "mimetype": "text/x-python",
   "name": "python",
   "nbconvert_exporter": "python",
   "pygments_lexer": "ipython3",
   "version": "3.6.8"
  }
 },
 "nbformat": 4,
 "nbformat_minor": 2
}
